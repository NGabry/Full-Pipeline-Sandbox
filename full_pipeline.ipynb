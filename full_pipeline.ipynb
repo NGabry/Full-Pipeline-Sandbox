{
 "cells": [
  {
   "cell_type": "code",
   "execution_count": 27,
   "id": "3625196a",
   "metadata": {},
   "outputs": [],
   "source": [
    "import pathlib\n",
    "import sys\n",
    "import shutil\n",
    "import tempfile\n",
    "import os\n",
    "import subprocess\n",
    "import csv\n",
    "import biom\n",
    "import numpy as np\n",
    "import pandas as pd\n",
    "\n",
    "from qiime2 import Artifact, Metadata, Visualization\n",
    "from qiime2.plugins import cutadapt as cut\n",
    "from qiime2.plugins.demux.visualizers import summarize\n",
    "from qiime2.plugins.dada2.methods import denoise_single\n",
    "from qiime2.plugins.feature_table.methods import filter_seqs\n",
    "from qiime2.plugins.feature_table.methods import filter_features\n",
    "from qiime2.plugins.feature_table.visualizers import tabulate_seqs\n",
    "from qiime2.plugins.feature_table.visualizers import summarize as summarize_table\n",
    "\n",
    "from remultiplexing import remultiplex\n",
    "from index_jump import calculate_IJR\n",
    "from index_jump import recalculate_IJR\n",
    "from per_sample_filtering import per_sample_filter\n",
    "from length_filtering import length_filter\n",
    "from qiime2.plugins.feature_classifier.pipelines import classify_hybrid_vsearch_sklearn\n",
    "from qiime2.plugins.feature_classifier.methods import classify_consensus_vsearch, classify_sklearn\n",
    "from qiime2.plugins.taxa.visualizers import barplot\n",
    "from qiime2.plugins.phylogeny.pipelines import align_to_tree_mafft_fasttree\n",
    "from qiime2.plugins.diversity.pipelines import core_metrics_phylogenetic\n",
    "\n",
    "def extract_tsv(file, dest):\n",
    "    with tempfile.TemporaryDirectory() as temp:\n",
    "        file.export_data(temp)\n",
    "        temp_pathlib = pathlib.Path(temp)\n",
    "        for file in temp_pathlib.iterdir():\n",
    "            if file.suffix == '.tsv':\n",
    "                shutil.copy(file, dest)\n"
   ]
  },
  {
   "cell_type": "code",
   "execution_count": null,
   "id": "442b1184",
   "metadata": {},
   "outputs": [],
   "source": [
    "#Remultiplex(name of bam file)\n",
    "remultiplex('subsample.bam')"
   ]
  },
  {
   "cell_type": "code",
   "execution_count": null,
   "id": "1df30bb4",
   "metadata": {},
   "outputs": [],
   "source": [
    "#Gzip the all_seqs.fastq file produced during remultiplexing \n",
    "os.system('gzip all_seqs.fastq')"
   ]
  },
  {
   "cell_type": "code",
   "execution_count": 2,
   "id": "9692ec81",
   "metadata": {},
   "outputs": [],
   "source": [
    "#Read in sample map\n",
    "sample_map = 'Sample_Map_Full.txt'\n",
    "\n",
    "\n",
    "metadata = Metadata.load(sample_map)\n",
    "metadata_df = pd.read_csv(sample_map, sep='\\t')"
   ]
  },
  {
   "cell_type": "code",
   "execution_count": null,
   "id": "980b62a3",
   "metadata": {},
   "outputs": [],
   "source": [
    "#Importing a gzipped fastq as a fully multiplexed file into qiime2 \n",
    "mux = Artifact.import_data(\"MultiplexedSingleEndBarcodeInSequence\", \"all_seqs.fastq.gz\")\n",
    "\n",
    "#Saving as a qza\n",
    "mux.save('mux.qza')\n"
   ]
  },
  {
   "cell_type": "code",
   "execution_count": null,
   "id": "4d690791",
   "metadata": {},
   "outputs": [],
   "source": [
    "#Demultiplexing the reads according to their barcodes \n",
    "demux, untrimmed = cut.methods.demux_single(mux, \n",
    "                                            metadata.get_column('BarcodeSequence'), \n",
    "                                            error_rate = 0)\n",
    "demux.save('demux.qza')\n",
    "d = summarize(demux)\n",
    "d.visualization"
   ]
  },
  {
   "cell_type": "code",
   "execution_count": null,
   "id": "8e99a3b1",
   "metadata": {},
   "outputs": [],
   "source": [
    "#Trimming ANML primers off the demultiplexed reads\n",
    "ANML_primers = [\"^GGTCAACAAATCATAAAGATATTGG...GGATTTGGAAATTGATTAGTWCCATC\"]\n",
    "\n",
    "trimmed_demux = cut.methods.trim_single(demux, \n",
    "                                        cores=16, \n",
    "                                        adapter = ANML_primers, \n",
    "                                        indels = True,\n",
    "                                        minimum_length = 170, \n",
    "                                        discard_untrimmed = True)\n",
    "trimmed_demux = trimmed_demux.trimmed_sequences\n",
    "trimmed_demux.save('trimmed_demux.qza')\n",
    "\n"
   ]
  },
  {
   "cell_type": "code",
   "execution_count": 5,
   "id": "2d33b315",
   "metadata": {},
   "outputs": [],
   "source": [
    "# Loading Saved Files\n",
    "trimmed_demux = Artifact.load('trimmed_demux.qza')"
   ]
  },
  {
   "cell_type": "code",
   "execution_count": 6,
   "id": "e10c4555",
   "metadata": {},
   "outputs": [
    {
     "name": "stdout",
     "output_type": "stream",
     "text": [
      "Maximum number of false reads expected in a single sample: 1.519759980930058\n"
     ]
    },
    {
     "name": "stderr",
     "output_type": "stream",
     "text": [
      "mkdir: cannot create directory ‘tsvs’: File exists\n"
     ]
    }
   ],
   "source": [
    "#Calculate max Index Jump Rate using calculate_IJR\n",
    "\n",
    "max_IJR = calculate_IJR(trimmed_demux, metadata, metadata_df)\n",
    "max_IJR = round(max_IJR)"
   ]
  },
  {
   "cell_type": "code",
   "execution_count": null,
   "id": "54a5aba9",
   "metadata": {},
   "outputs": [],
   "source": [
    "#DADA2\n",
    "table, rep_seqs, stats = denoise_single(trimmed_demux,\n",
    "                                        trunc_len = 0, \n",
    "                                        n_threads = 0)\n",
    "rep_seqs.save('rep_seqs.qza')\n",
    "table.save('table.qza')\n",
    "stats.save('stats.qza')"
   ]
  },
  {
   "cell_type": "code",
   "execution_count": 7,
   "id": "d53f94cc",
   "metadata": {},
   "outputs": [],
   "source": [
    "#Re-loading artifacts\n",
    "rep_seqs = Artifact.load('rep_seqs.qza')\n",
    "table = Artifact.load('table.qza')"
   ]
  },
  {
   "cell_type": "code",
   "execution_count": 8,
   "id": "54582a0d",
   "metadata": {},
   "outputs": [
    {
     "data": {
      "text/html": [
       "<div><img onload=\"(function(div, url){\n",
       "if (typeof require !== 'undefined') {\n",
       "    var baseURL = require.toUrl('').split('/').slice(0, -2).join('/');\n",
       "} else {\n",
       "    var baseURL = JSON.parse(\n",
       "        document.getElementById('jupyter-config-data').innerHTML\n",
       "    ).baseUrl.slice(0, -1);\n",
       "}\n",
       "url = baseURL + url;\n",
       "fetch(url).then(function(res) {\n",
       "    if (res.status === 404) {\n",
       "        div.innerHTML = 'Install QIIME 2 Jupyter extension with:<br />' +\n",
       "                        '<code>jupyter serverextension enable --py qiime2' +\n",
       "                        ' --sys-prefix</code><br />then restart your server.' +\n",
       "                        '<br /><br />(Interactive output not available on ' +\n",
       "                        'static notebook viewer services like nbviewer.)';\n",
       "    } else if (res.status === 409) {\n",
       "        div.innerHTML = 'Visualization no longer in scope. Re-run this cell' +\n",
       "                        ' to see the visualization.';\n",
       "    } else if (res.ok) {\n",
       "        url = res.url;\n",
       "        div.innerHTML = '<iframe src=\\'' + url + '\\' style=\\'' +\n",
       "                        'width: 100%; height: 700px; border: 0;\\'>' +\n",
       "                        '</iframe><hr />Open in a: <a href=\\'' + url + '\\'' +\n",
       "                        ' target=\\'_blank\\'>new window</a>'\n",
       "    } else {\n",
       "        div.innerHTML = 'Something has gone wrong. Check notebook server for' +\n",
       "                        ' errors.';\n",
       "    }\n",
       "});\n",
       "})(this.parentElement, '/qiime2/redirect?location=/tmp/qiime2-archive-t30uttby')\" src=\"data:image/gif;base64,R0lGODlhAQABAIAAAP///wAAACH5BAEAAAAALAAAAAABAAEAAAICRAEAOw==\" /></div>"
      ],
      "text/plain": [
       "<visualization: Visualization uuid: f021cf4b-2307-4021-98b7-c6574b3affc5>"
      ]
     },
     "execution_count": 8,
     "metadata": {},
     "output_type": "execute_result"
    }
   ],
   "source": [
    "#Visualize inital table after dada2\n",
    "tabulated = tabulate_seqs(rep_seqs)\n",
    "tabulated.visualization"
   ]
  },
  {
   "cell_type": "code",
   "execution_count": 9,
   "id": "deec7a24",
   "metadata": {},
   "outputs": [
    {
     "data": {
      "text/html": [
       "<div><img onload=\"(function(div, url){\n",
       "if (typeof require !== 'undefined') {\n",
       "    var baseURL = require.toUrl('').split('/').slice(0, -2).join('/');\n",
       "} else {\n",
       "    var baseURL = JSON.parse(\n",
       "        document.getElementById('jupyter-config-data').innerHTML\n",
       "    ).baseUrl.slice(0, -1);\n",
       "}\n",
       "url = baseURL + url;\n",
       "fetch(url).then(function(res) {\n",
       "    if (res.status === 404) {\n",
       "        div.innerHTML = 'Install QIIME 2 Jupyter extension with:<br />' +\n",
       "                        '<code>jupyter serverextension enable --py qiime2' +\n",
       "                        ' --sys-prefix</code><br />then restart your server.' +\n",
       "                        '<br /><br />(Interactive output not available on ' +\n",
       "                        'static notebook viewer services like nbviewer.)';\n",
       "    } else if (res.status === 409) {\n",
       "        div.innerHTML = 'Visualization no longer in scope. Re-run this cell' +\n",
       "                        ' to see the visualization.';\n",
       "    } else if (res.ok) {\n",
       "        url = res.url;\n",
       "        div.innerHTML = '<iframe src=\\'' + url + '\\' style=\\'' +\n",
       "                        'width: 100%; height: 700px; border: 0;\\'>' +\n",
       "                        '</iframe><hr />Open in a: <a href=\\'' + url + '\\'' +\n",
       "                        ' target=\\'_blank\\'>new window</a>'\n",
       "    } else {\n",
       "        div.innerHTML = 'Something has gone wrong. Check notebook server for' +\n",
       "                        ' errors.';\n",
       "    }\n",
       "});\n",
       "})(this.parentElement, '/qiime2/redirect?location=/tmp/qiime2-archive-ucp3am0g')\" src=\"data:image/gif;base64,R0lGODlhAQABAIAAAP///wAAACH5BAEAAAAALAAAAAABAAEAAAICRAEAOw==\" /></div>"
      ],
      "text/plain": [
       "<visualization: Visualization uuid: 6003a9a3-9496-425d-a2c3-5f5e1de35603>"
      ]
     },
     "execution_count": 9,
     "metadata": {},
     "output_type": "execute_result"
    }
   ],
   "source": [
    "#Tabulate inital seqs after dada2\n",
    "summary = summarize_table(table)\n",
    "summary.visualization"
   ]
  },
  {
   "cell_type": "code",
   "execution_count": 10,
   "id": "851ddb65",
   "metadata": {},
   "outputs": [
    {
     "name": "stdout",
     "output_type": "stream",
     "text": [
      "Maximum number of false reads expected in a single sample: 0.0\n"
     ]
    },
    {
     "name": "stderr",
     "output_type": "stream",
     "text": [
      "mkdir: cannot create directory ‘csvs’: File exists\n"
     ]
    }
   ],
   "source": [
    "#RECALCULATE_IJR using recalculate_IJRj\n",
    "re_max_IJR = recalculate_IJR(rep_seqs, table, metadata_df)\n",
    "re_max_IJR = round(re_max_IJR)"
   ]
  },
  {
   "cell_type": "code",
   "execution_count": 11,
   "id": "574a3dcf",
   "metadata": {},
   "outputs": [
    {
     "name": "stderr",
     "output_type": "stream",
     "text": [
      "mkdir: cannot create directory ‘fastas’: File exists\n"
     ]
    }
   ],
   "source": [
    "#Filtering by Length\n",
    "rep_seqs_filt_v1, table_filt_v1 = length_filter(rep_seqs, table, 120)"
   ]
  },
  {
   "cell_type": "code",
   "execution_count": 12,
   "id": "ab74a2b3",
   "metadata": {},
   "outputs": [
    {
     "data": {
      "text/html": [
       "<div><img onload=\"(function(div, url){\n",
       "if (typeof require !== 'undefined') {\n",
       "    var baseURL = require.toUrl('').split('/').slice(0, -2).join('/');\n",
       "} else {\n",
       "    var baseURL = JSON.parse(\n",
       "        document.getElementById('jupyter-config-data').innerHTML\n",
       "    ).baseUrl.slice(0, -1);\n",
       "}\n",
       "url = baseURL + url;\n",
       "fetch(url).then(function(res) {\n",
       "    if (res.status === 404) {\n",
       "        div.innerHTML = 'Install QIIME 2 Jupyter extension with:<br />' +\n",
       "                        '<code>jupyter serverextension enable --py qiime2' +\n",
       "                        ' --sys-prefix</code><br />then restart your server.' +\n",
       "                        '<br /><br />(Interactive output not available on ' +\n",
       "                        'static notebook viewer services like nbviewer.)';\n",
       "    } else if (res.status === 409) {\n",
       "        div.innerHTML = 'Visualization no longer in scope. Re-run this cell' +\n",
       "                        ' to see the visualization.';\n",
       "    } else if (res.ok) {\n",
       "        url = res.url;\n",
       "        div.innerHTML = '<iframe src=\\'' + url + '\\' style=\\'' +\n",
       "                        'width: 100%; height: 700px; border: 0;\\'>' +\n",
       "                        '</iframe><hr />Open in a: <a href=\\'' + url + '\\'' +\n",
       "                        ' target=\\'_blank\\'>new window</a>'\n",
       "    } else {\n",
       "        div.innerHTML = 'Something has gone wrong. Check notebook server for' +\n",
       "                        ' errors.';\n",
       "    }\n",
       "});\n",
       "})(this.parentElement, '/qiime2/redirect?location=/tmp/qiime2-archive-p_ogmmi8')\" src=\"data:image/gif;base64,R0lGODlhAQABAIAAAP///wAAACH5BAEAAAAALAAAAAABAAEAAAICRAEAOw==\" /></div>"
      ],
      "text/plain": [
       "<visualization: Visualization uuid: 705d9e68-60c0-4baf-b12e-1c19e61a583f>"
      ]
     },
     "execution_count": 12,
     "metadata": {},
     "output_type": "execute_result"
    }
   ],
   "source": [
    "#Tabulate seqs to ensure filtering\n",
    "tabulated = tabulate_seqs(rep_seqs_filt_v1.filtered_data)\n",
    "tabulated.visualization"
   ]
  },
  {
   "cell_type": "code",
   "execution_count": 14,
   "id": "3fc1c5b4",
   "metadata": {},
   "outputs": [
    {
     "name": "stdout",
     "output_type": "stream",
     "text": [
      "Could not import from biom table, trying from qza\n",
      "File loaded! Filtering at 2 occurences per feature\n"
     ]
    }
   ],
   "source": [
    "#Filtering by Frequency \n",
    "table_filt_v2 = per_sample_filter(max_IJR, table_filt_v1)"
   ]
  },
  {
   "cell_type": "code",
   "execution_count": 15,
   "id": "e4e7e106",
   "metadata": {},
   "outputs": [
    {
     "data": {
      "text/html": [
       "<div><img onload=\"(function(div, url){\n",
       "if (typeof require !== 'undefined') {\n",
       "    var baseURL = require.toUrl('').split('/').slice(0, -2).join('/');\n",
       "} else {\n",
       "    var baseURL = JSON.parse(\n",
       "        document.getElementById('jupyter-config-data').innerHTML\n",
       "    ).baseUrl.slice(0, -1);\n",
       "}\n",
       "url = baseURL + url;\n",
       "fetch(url).then(function(res) {\n",
       "    if (res.status === 404) {\n",
       "        div.innerHTML = 'Install QIIME 2 Jupyter extension with:<br />' +\n",
       "                        '<code>jupyter serverextension enable --py qiime2' +\n",
       "                        ' --sys-prefix</code><br />then restart your server.' +\n",
       "                        '<br /><br />(Interactive output not available on ' +\n",
       "                        'static notebook viewer services like nbviewer.)';\n",
       "    } else if (res.status === 409) {\n",
       "        div.innerHTML = 'Visualization no longer in scope. Re-run this cell' +\n",
       "                        ' to see the visualization.';\n",
       "    } else if (res.ok) {\n",
       "        url = res.url;\n",
       "        div.innerHTML = '<iframe src=\\'' + url + '\\' style=\\'' +\n",
       "                        'width: 100%; height: 700px; border: 0;\\'>' +\n",
       "                        '</iframe><hr />Open in a: <a href=\\'' + url + '\\'' +\n",
       "                        ' target=\\'_blank\\'>new window</a>'\n",
       "    } else {\n",
       "        div.innerHTML = 'Something has gone wrong. Check notebook server for' +\n",
       "                        ' errors.';\n",
       "    }\n",
       "});\n",
       "})(this.parentElement, '/qiime2/redirect?location=/tmp/qiime2-archive-mvt_p5dn')\" src=\"data:image/gif;base64,R0lGODlhAQABAIAAAP///wAAACH5BAEAAAAALAAAAAABAAEAAAICRAEAOw==\" /></div>"
      ],
      "text/plain": [
       "<visualization: Visualization uuid: d47d4f89-2aee-411f-be39-a7d670b01433>"
      ]
     },
     "execution_count": 15,
     "metadata": {},
     "output_type": "execute_result"
    }
   ],
   "source": [
    "#Summarize table to ensure filtering \n",
    "summary = summarize_table(table_filt_v2)\n",
    "summary.visualization"
   ]
  },
  {
   "cell_type": "code",
   "execution_count": 17,
   "id": "8827e2aa",
   "metadata": {},
   "outputs": [],
   "source": [
    "#Import taxonomy files \n",
    "\n",
    "NoAm_seqs = Artifact.load('../COI_classifiers/NoAm_V3_91721/NoAm_seqs_V3.qza')\n",
    "NoAm_tax = Artifact.load('../COI_classifiers/NoAm_V3_91721/NoAm_tax_V3.qza')\n",
    "NoAm_class = Artifact.load('../COI_classifiers/NoAm_V3_91721/NoAm_classifier_V3.qza')"
   ]
  },
  {
   "cell_type": "code",
   "execution_count": 21,
   "id": "1a98a263",
   "metadata": {},
   "outputs": [
    {
     "name": "stdout",
     "output_type": "stream",
     "text": [
      "Running external command line application. This may print messages to stdout and/or stderr.\n",
      "The command being run is below. This command cannot be manually re-run as it will depend on temporary files that no longer exist.\n",
      "\n",
      "Command: vsearch --usearch_global /tmp/qiime2-archive-s4kf97_z/ef2b1e84-f805-4440-8f10-58c0f505406e/data/dna-sequences.fasta --id 0.99 --query_cov 0.99 --strand both --maxaccepts 1 --maxrejects 0 --db /tmp/qiime2-archive-xrq7e9zd/715f2018-2aba-4187-a330-22a50ac55c26/data/dna-sequences.fasta --threads 35 --output_no_hits --blast6out /tmp/tmp4sy6c_6l\n",
      "\n"
     ]
    },
    {
     "name": "stderr",
     "output_type": "stream",
     "text": [
      "vsearch v2.7.0_linux_x86_64, 251.8GB RAM, 36 cores\n",
      "https://github.com/torognes/vsearch\n",
      "\n",
      "Reading file /tmp/qiime2-archive-xrq7e9zd/715f2018-2aba-4187-a330-22a50ac55c26/data/dna-sequences.fasta 100%\n",
      "1148947858 nt in 1913186 seqs, min 53, max 1537, avg 601\n",
      "Masking 100%\n",
      "Counting k-mers 100%\n",
      "Creating k-mer index 100%\n",
      "Searching 100%\n",
      "Matching query sequences: 410 of 625 (65.60%)\n"
     ]
    },
    {
     "data": {
      "text/plain": [
       "'vsearch_taxonomy.qza'"
      ]
     },
     "execution_count": 21,
     "metadata": {},
     "output_type": "execute_result"
    }
   ],
   "source": [
    "#Taxonomy Assignment\n",
    "vsearch_taxonomy =      classify_consensus_vsearch(query = rep_seqs_filt_v1.filtered_data,\n",
    "                                           reference_reads = NoAm_seqs,\n",
    "                                           reference_taxonomy = NoAm_tax,\n",
    "                                           maxaccepts = 1,\n",
    "                                           perc_identity = .99,\n",
    "                                           query_cov = .99,\n",
    "                                           strand = 'both',\n",
    "                                           threads = 35)\n",
    "#Save taxonomy\n",
    "vsearch_taxonomy = vsearch_taxonomy.classification\n",
    "vsearch_taxonomy.save('vsearch_taxonomy.qza')"
   ]
  },
  {
   "cell_type": "code",
   "execution_count": 36,
   "id": "98dbd394",
   "metadata": {},
   "outputs": [
    {
     "name": "stderr",
     "output_type": "stream",
     "text": [
      "mkdir: cannot create directory ‘tsvs’: File exists\n"
     ]
    }
   ],
   "source": [
    "#Grab the list of Feature ID's which were not assigned with Vsearch \n",
    "os.system('mkdir tsvs')\n",
    "extract_tsv(vsearch_taxonomy, 'tsvs')\n",
    "vsearch_df = pd.read_csv('tsvs/taxonomy.tsv', sep = '\\t')"
   ]
  },
  {
   "cell_type": "code",
   "execution_count": 38,
   "id": "a1b6b846",
   "metadata": {},
   "outputs": [],
   "source": [
    "#Selecting only the features which were assigned\n",
    "#Then sending them to a CSV which will make up our exclusion metadata\n",
    "\n",
    "features_to_exclude = vsearch_df[vsearch_df['Taxon'] != 'Unassigned']\n",
    "\n",
    "features_to_exclude['Feature ID'].to_csv('Features-to-exclude.csv', index=False)\n",
    "\n",
    "exclude = Metadata.load(\"Features-to-exclude.csv\")\n"
   ]
  },
  {
   "cell_type": "code",
   "execution_count": 46,
   "id": "d7115111",
   "metadata": {},
   "outputs": [],
   "source": [
    "#Filter merged_seqs based on seqs_to_exclude\n",
    "unassigned_seqs  = filter_seqs(rep_seqs_filt_v1.filtered_data, \n",
    "                               metadata = exclude,\n",
    "                               exclude_ids = True)\n",
    "\n",
    "unassigned_table  = filter_features(table_filt_v2, \n",
    "                               metadata = exclude,\n",
    "                               exclude_ids = True)"
   ]
  },
  {
   "cell_type": "code",
   "execution_count": 49,
   "id": "ed3f9f02",
   "metadata": {},
   "outputs": [],
   "source": [
    "#Naive Bayes Taxonomy Assignment \n",
    "\n",
    "sklearn_taxonomy = classify_sklearn(reads = unassigned_seqs.filtered_data,\n",
    "                                    classifier = NoAm_class,\n",
    "                                    n_jobs = -1,\n",
    "                                    read_orientation = 'auto')\n",
    "\n"
   ]
  },
  {
   "cell_type": "code",
   "execution_count": 51,
   "id": "c8c4a96c",
   "metadata": {},
   "outputs": [
    {
     "name": "stderr",
     "output_type": "stream",
     "text": [
      "mkdir: cannot create directory ‘tsvs_sklearn’: File exists\n"
     ]
    },
    {
     "data": {
      "text/plain": [
       "'merged_taxonomy.qza'"
      ]
     },
     "execution_count": 51,
     "metadata": {},
     "output_type": "execute_result"
    }
   ],
   "source": [
    "#Then merge taxonomies\n",
    "os.system('mkdir tsvs_sklearn')\n",
    "extract_tsv(sklearn_taxonomy.classification, 'tsvs_sklearn')\n",
    "\n",
    "\n",
    "sklearn_df = pd.read_csv('tsvs_sklearn/taxonomy.tsv', sep = '\\t')\n",
    "\n",
    "vsearch_df = features_to_exclude\n",
    "\n",
    "frames = [vsearch_df, sklearn_df]\n",
    "\n",
    "merged_taxonomies = pd.concat(frames,ignore_index=True)\n",
    "\n",
    "merged_taxonomies = merged_taxonomies.set_index('Feature ID')\n",
    " \n",
    "merged_taxonomy = Artifact.import_data(\"FeatureData[Taxonomy]\", merged_taxonomies)\n",
    "\n",
    "merged_taxonomy.save('merged_taxonomy.qza')"
   ]
  },
  {
   "cell_type": "code",
   "execution_count": 53,
   "id": "17d76b5a",
   "metadata": {},
   "outputs": [
    {
     "data": {
      "text/html": [
       "<div><img onload=\"(function(div, url){\n",
       "if (typeof require !== 'undefined') {\n",
       "    var baseURL = require.toUrl('').split('/').slice(0, -2).join('/');\n",
       "} else {\n",
       "    var baseURL = JSON.parse(\n",
       "        document.getElementById('jupyter-config-data').innerHTML\n",
       "    ).baseUrl.slice(0, -1);\n",
       "}\n",
       "url = baseURL + url;\n",
       "fetch(url).then(function(res) {\n",
       "    if (res.status === 404) {\n",
       "        div.innerHTML = 'Install QIIME 2 Jupyter extension with:<br />' +\n",
       "                        '<code>jupyter serverextension enable --py qiime2' +\n",
       "                        ' --sys-prefix</code><br />then restart your server.' +\n",
       "                        '<br /><br />(Interactive output not available on ' +\n",
       "                        'static notebook viewer services like nbviewer.)';\n",
       "    } else if (res.status === 409) {\n",
       "        div.innerHTML = 'Visualization no longer in scope. Re-run this cell' +\n",
       "                        ' to see the visualization.';\n",
       "    } else if (res.ok) {\n",
       "        url = res.url;\n",
       "        div.innerHTML = '<iframe src=\\'' + url + '\\' style=\\'' +\n",
       "                        'width: 100%; height: 700px; border: 0;\\'>' +\n",
       "                        '</iframe><hr />Open in a: <a href=\\'' + url + '\\'' +\n",
       "                        ' target=\\'_blank\\'>new window</a>'\n",
       "    } else {\n",
       "        div.innerHTML = 'Something has gone wrong. Check notebook server for' +\n",
       "                        ' errors.';\n",
       "    }\n",
       "});\n",
       "})(this.parentElement, '/qiime2/redirect?location=/tmp/qiime2-archive-ibigm64i')\" src=\"data:image/gif;base64,R0lGODlhAQABAIAAAP///wAAACH5BAEAAAAALAAAAAABAAEAAAICRAEAOw==\" /></div>"
      ],
      "text/plain": [
       "<visualization: Visualization uuid: 66a1855b-09f6-4634-90ad-d2f3d803a2c8>"
      ]
     },
     "execution_count": 53,
     "metadata": {},
     "output_type": "execute_result"
    }
   ],
   "source": [
    "#Barplot Creation\n",
    "taxonomy = Artifact.load('merged_taxonomy.qza')\n",
    "barplot = barplot(table_filt_v2, merged_taxonomy, metadata)\n",
    "barplot = barplot.visualization\n",
    "barplot.save('merged_barplot.qzv')\n",
    "barplot = Visualization.load('merged_barplot.qzv')\n",
    "barplot"
   ]
  },
  {
   "cell_type": "code",
   "execution_count": null,
   "id": "06506359",
   "metadata": {},
   "outputs": [],
   "source": [
    "# #Filter out low Zono, P, and C level IDs from table and seqs\n",
    "# filter_list = [\"k__Animalia;p__Chordata;c__Aves;o__Passeriformes;f__Passerellidae;g__Zonotrichia;s__albicollis\",\n",
    "#                \"k__Animalia;p__Arthropoda;c__;o__;f__;g__;s__\",\n",
    "#                \"k__Animalia;p__Arthropoda;__;__;__;__;__\",\n",
    "#                \"k__Animalia;p__Arthropoda\",\n",
    "#                \"k__Animalia;p__Arthropoda;c__Insecta;o__;f__;g__;s__\",\n",
    "#                \"k__Animalia;p__Arthropoda;c__Insecta;__;__;__;__\",\n",
    "#                \"k__Animalia;p__Arthropoda;c__Insecta\",\n",
    "#                \"k__Animalia;p__Arthropoda;c__Arachnida;o__;f__;g__;s__\",\n",
    "#                \"k__Animalia;p__Arthropoda;c__Arachnida;__;__;__;__\",\n",
    "#                \"k__Animalia;p__Arthropoda;c__Arachnida\",\n",
    "#                \"k__Animalia;p__Arthropoda;c__Collembola\"]\n",
    "\n",
    "# for i in filter_list:\n"
   ]
  }
 ],
 "metadata": {
  "kernelspec": {
   "display_name": "Python 3 (ipykernel)",
   "language": "python",
   "name": "python3"
  },
  "language_info": {
   "codemirror_mode": {
    "name": "ipython",
    "version": 3
   },
   "file_extension": ".py",
   "mimetype": "text/x-python",
   "name": "python",
   "nbconvert_exporter": "python",
   "pygments_lexer": "ipython3",
   "version": "3.8.10"
  }
 },
 "nbformat": 4,
 "nbformat_minor": 5
}
