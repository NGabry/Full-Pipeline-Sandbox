{
 "cells": [
  {
   "cell_type": "code",
   "execution_count": null,
   "id": "3625196a",
   "metadata": {},
   "outputs": [],
   "source": [
    "import pathlib\n",
    "import sys\n",
    "import shutil\n",
    "import tempfile\n",
    "import os\n",
    "import subprocess\n",
    "import csv\n",
    "import biom\n",
    "import numpy as np\n",
    "import pandas as pd\n",
    "\n",
    "from qiime2 import Artifact, Metadata\n",
    "from qiime2.plugins import cutadapt as cut\n",
    "from qiime2.plugins.demux.visualizers import summarize\n",
    "from qiime2.plugins.dada2.methods import denoise_single\n",
    "from qiime2.plugins.feature_table.methods import filter_seqs\n",
    "from qiime2.plugins.feature_table.methods import filter_features\n",
    "from qiime2.plugins.feature_table.visualizers import tabulate_seqs\n",
    "from qiime2.plugins.feature_table.visualizers import summarize as summarize_table\n",
    "\n",
    "from remultiplexing import remultiplex\n",
    "from index_jump import calculate_IJR\n",
    "from index_jump import recalculate_IJR\n",
    "from per_sample_filtering import per_sample_filter"
   ]
  },
  {
   "cell_type": "code",
   "execution_count": null,
   "id": "442b1184",
   "metadata": {},
   "outputs": [],
   "source": [
    "#Remultiplex(name of bam file)\n",
    "\n"
   ]
  },
  {
   "cell_type": "code",
   "execution_count": null,
   "id": "1df30bb4",
   "metadata": {},
   "outputs": [],
   "source": [
    "#Gzip the all_seqs.fastq file produced during remultiplexing \n",
    "\n"
   ]
  },
  {
   "cell_type": "code",
   "execution_count": null,
   "id": "9692ec81",
   "metadata": {},
   "outputs": [],
   "source": [
    "#Read in sample map\n",
    "sample_map = 'Sample_Map_Full.txt'\n",
    "\n",
    "\n",
    "metadata = Metadata.load(sample_map)\n",
    "metadata_df = pd.read_csv(sample_map, sep='\\t')"
   ]
  },
  {
   "cell_type": "code",
   "execution_count": null,
   "id": "980b62a3",
   "metadata": {},
   "outputs": [],
   "source": [
    "#Importing a gzipped fastq as a fully multiplexed file into qiime2 \n",
    "\n"
   ]
  },
  {
   "cell_type": "code",
   "execution_count": null,
   "id": "4d690791",
   "metadata": {},
   "outputs": [],
   "source": [
    "#Demultiplexing the reads according to their barcodes \n",
    "\n"
   ]
  },
  {
   "cell_type": "code",
   "execution_count": null,
   "id": "8e99a3b1",
   "metadata": {},
   "outputs": [],
   "source": [
    "#Trimming ANML primers off the demultiplexed reads\n",
    "\n"
   ]
  },
  {
   "cell_type": "code",
   "execution_count": null,
   "id": "e10c4555",
   "metadata": {},
   "outputs": [],
   "source": [
    "#Calculate max Index Jump Rate using calculate_IJR\n",
    "\n",
    "max_IJR = calculate_IJR(trimmed_demux, metadata, metadata_df)\n",
    "max_IJR = round(max_IJR)"
   ]
  },
  {
   "cell_type": "code",
   "execution_count": null,
   "id": "54a5aba9",
   "metadata": {},
   "outputs": [],
   "source": [
    "#DADA2"
   ]
  },
  {
   "cell_type": "code",
   "execution_count": null,
   "id": "851ddb65",
   "metadata": {},
   "outputs": [],
   "source": [
    "#RECALCULATE_IJR using recalculate_IJR\n",
    "\n"
   ]
  },
  {
   "cell_type": "code",
   "execution_count": null,
   "id": "574a3dcf",
   "metadata": {},
   "outputs": [],
   "source": [
    "#Filtering by Length\n",
    "THIS STEP IS NOT READY YET! STOP HERE!"
   ]
  },
  {
   "cell_type": "code",
   "execution_count": null,
   "id": "c59bb4c4",
   "metadata": {},
   "outputs": [],
   "source": []
  },
  {
   "cell_type": "code",
   "execution_count": null,
   "id": "fa582c2a",
   "metadata": {},
   "outputs": [],
   "source": []
  },
  {
   "cell_type": "code",
   "execution_count": null,
   "id": "4ad1a7d5",
   "metadata": {},
   "outputs": [],
   "source": []
  },
  {
   "cell_type": "code",
   "execution_count": null,
   "id": "3fc1c5b4",
   "metadata": {},
   "outputs": [],
   "source": [
    "#Filtering by Frequency \n"
   ]
  },
  {
   "cell_type": "code",
   "execution_count": null,
   "id": "1a98a263",
   "metadata": {},
   "outputs": [],
   "source": [
    "#Taxonomy Assignment\n",
    "\n"
   ]
  },
  {
   "cell_type": "code",
   "execution_count": null,
   "id": "17d76b5a",
   "metadata": {},
   "outputs": [],
   "source": [
    "#Barplot Creation\n",
    "\n"
   ]
  },
  {
   "cell_type": "code",
   "execution_count": null,
   "id": "6d872b0e",
   "metadata": {},
   "outputs": [],
   "source": [
    "#Mafft Alignment\n",
    "\n"
   ]
  },
  {
   "cell_type": "code",
   "execution_count": null,
   "id": "44cecf61",
   "metadata": {},
   "outputs": [],
   "source": [
    "#Generate Core Metrics\n",
    "\n"
   ]
  },
  {
   "cell_type": "code",
   "execution_count": null,
   "id": "b67e511c",
   "metadata": {},
   "outputs": [],
   "source": [
    "#STATS AND GRAPHS\n",
    "\n"
   ]
  }
 ],
 "metadata": {
  "kernelspec": {
   "display_name": "Python 3 (ipykernel)",
   "language": "python",
   "name": "python3"
  },
  "language_info": {
   "codemirror_mode": {
    "name": "ipython",
    "version": 3
   },
   "file_extension": ".py",
   "mimetype": "text/x-python",
   "name": "python",
   "nbconvert_exporter": "python",
   "pygments_lexer": "ipython3",
   "version": "3.8.10"
  }
 },
 "nbformat": 4,
 "nbformat_minor": 5
}
